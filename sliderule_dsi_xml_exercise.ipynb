{
 "cells": [
  {
   "cell_type": "markdown",
   "metadata": {},
   "source": [
    "# XML example and exercise\n",
    "****\n",
    "+ study examples of accessing nodes in XML tree structure  \n",
    "+ work on exercise to be completed and submitted\n",
    "****\n",
    "+ reference: https://docs.python.org/2.7/library/xml.etree.elementtree.html\n",
    "+ data source: http://www.dbis.informatik.uni-goettingen.de/Mondial\n",
    "****"
   ]
  },
  {
   "cell_type": "code",
   "execution_count": 2,
   "metadata": {
    "collapsed": true
   },
   "outputs": [],
   "source": [
    "from xml.etree import ElementTree as ET"
   ]
  },
  {
   "cell_type": "markdown",
   "metadata": {},
   "source": [
    "## XML example\n",
    "\n",
    "+ for details about tree traversal and iterators, see https://docs.python.org/2.7/library/xml.etree.elementtree.html"
   ]
  },
  {
   "cell_type": "code",
   "execution_count": 3,
   "metadata": {
    "collapsed": true
   },
   "outputs": [],
   "source": [
    "document_tree = ET.parse( './data/mondial_database_less.xml' )"
   ]
  },
  {
   "cell_type": "code",
   "execution_count": 4,
   "metadata": {
    "collapsed": false
   },
   "outputs": [
    {
     "name": "stdout",
     "output_type": "stream",
     "text": [
      "Albania\n",
      "Greece\n",
      "Macedonia\n",
      "Serbia\n",
      "Montenegro\n",
      "Kosovo\n",
      "Andorra\n"
     ]
    }
   ],
   "source": [
    "# print names of all countries\n",
    "for child in document_tree.getroot():\n",
    "    print child.find('name').text"
   ]
  },
  {
   "cell_type": "code",
   "execution_count": 5,
   "metadata": {
    "collapsed": false
   },
   "outputs": [
    {
     "name": "stdout",
     "output_type": "stream",
     "text": [
      "* Albania: Tirana, Shkodër, Durrës, Vlorë, Elbasan, Korçë\n",
      "* Greece: Komotini, Kavala, Athina, Peiraias, Peristeri, Acharnes, Patra, Kozani, Kerkyra, Ioannina, Thessaloniki, Iraklio, Chania, Ermoupoli, Rhodes, Tripoli, Lamia, Chalkida, Larissa, Volos, Mytilini, Karyes\n",
      "* Macedonia: Skopje, Kumanovo\n",
      "* Serbia: Beograd, Novi Sad, Niš\n",
      "* Montenegro: Podgorica\n",
      "* Kosovo: Prishtine\n",
      "* Andorra: Andorra la Vella\n"
     ]
    }
   ],
   "source": [
    "# print names of all countries and their cities\n",
    "for element in document_tree.iterfind('country'):\n",
    "    print '* ' + element.find('name').text + ':',\n",
    "    capitals_string = ''\n",
    "    for subelement in element.getiterator('city'):\n",
    "        capitals_string += subelement.find('name').text + ', '\n",
    "    print capitals_string[:-2]"
   ]
  },
  {
   "cell_type": "markdown",
   "metadata": {},
   "source": [
    "****\n",
    "## XML exercise\n",
    "\n",
    "Using data in 'data/mondial_database.xml', the examples above, and refering to https://docs.python.org/2.7/library/xml.etree.elementtree.html, find\n",
    "\n",
    "1. 10 countries with the lowest infant mortality rates\n",
    "2. 10 cities with the largest population\n",
    "3. 10 ethnic groups with the largest overall populations (sum of best/latest estimates over all countries)\n",
    "4. name and country of a) longest river, b) largest lake and c) airport at highest elevation"
   ]
  },
  {
   "cell_type": "code",
   "execution_count": 6,
   "metadata": {
    "collapsed": true
   },
   "outputs": [],
   "source": [
    "import pandas as pd"
   ]
  },
  {
   "cell_type": "code",
   "execution_count": 7,
   "metadata": {
    "collapsed": false
   },
   "outputs": [],
   "source": [
    "document = ET.parse( './data/mondial_database.xml' )"
   ]
  },
  {
   "cell_type": "code",
   "execution_count": 8,
   "metadata": {
    "collapsed": false
   },
   "outputs": [],
   "source": [
    "# Build disctionary containing country name, infant mortality\n",
    "# Also creaite dict to translate country codes to names\n",
    "country_mortality={}\n",
    "country_code={}\n",
    "for child in document.getroot().iterfind('country[infant_mortality]'):\n",
    "    c_code = child.attrib[\"car_code\"]\n",
    "    c_name = child.find('name').text\n",
    "    country_code.update({c_code:c_name})\n",
    "    country_mortality.update({c_name: float(child.find('infant_mortality').text)})"
   ]
  },
  {
   "cell_type": "code",
   "execution_count": 9,
   "metadata": {
    "collapsed": false
   },
   "outputs": [
    {
     "data": {
      "text/html": [
       "<div>\n",
       "<table border=\"1\" class=\"dataframe\">\n",
       "  <thead>\n",
       "    <tr style=\"text-align: right;\">\n",
       "      <th></th>\n",
       "      <th>0</th>\n",
       "    </tr>\n",
       "  </thead>\n",
       "  <tbody>\n",
       "    <tr>\n",
       "      <th>Monaco</th>\n",
       "      <td>1.81</td>\n",
       "    </tr>\n",
       "    <tr>\n",
       "      <th>Japan</th>\n",
       "      <td>2.13</td>\n",
       "    </tr>\n",
       "    <tr>\n",
       "      <th>Bermuda</th>\n",
       "      <td>2.48</td>\n",
       "    </tr>\n",
       "    <tr>\n",
       "      <th>Norway</th>\n",
       "      <td>2.48</td>\n",
       "    </tr>\n",
       "    <tr>\n",
       "      <th>Singapore</th>\n",
       "      <td>2.53</td>\n",
       "    </tr>\n",
       "    <tr>\n",
       "      <th>Sweden</th>\n",
       "      <td>2.60</td>\n",
       "    </tr>\n",
       "    <tr>\n",
       "      <th>Czech Republic</th>\n",
       "      <td>2.63</td>\n",
       "    </tr>\n",
       "    <tr>\n",
       "      <th>Hong Kong</th>\n",
       "      <td>2.73</td>\n",
       "    </tr>\n",
       "    <tr>\n",
       "      <th>Macao</th>\n",
       "      <td>3.13</td>\n",
       "    </tr>\n",
       "    <tr>\n",
       "      <th>Iceland</th>\n",
       "      <td>3.15</td>\n",
       "    </tr>\n",
       "  </tbody>\n",
       "</table>\n",
       "</div>"
      ],
      "text/plain": [
       "                   0\n",
       "Monaco          1.81\n",
       "Japan           2.13\n",
       "Bermuda         2.48\n",
       "Norway          2.48\n",
       "Singapore       2.53\n",
       "Sweden          2.60\n",
       "Czech Republic  2.63\n",
       "Hong Kong       2.73\n",
       "Macao           3.13\n",
       "Iceland         3.15"
      ]
     },
     "execution_count": 9,
     "metadata": {},
     "output_type": "execute_result"
    }
   ],
   "source": [
    "# Convert dict to DataFrame, sort by mortality rate and output 10 countries with lowest mortality rate\n",
    "country_mortality_f = pd.DataFrame.from_dict(country_mortality, orient='index').sort_values(by=[0], ascending=True).head(10)\n",
    "country_mortality_f"
   ]
  },
  {
   "cell_type": "code",
   "execution_count": 10,
   "metadata": {
    "collapsed": false
   },
   "outputs": [],
   "source": [
    "# Build dictionary containing city name, population estimate and date of population estimate\n",
    "city_size={}\n",
    "for child in document.getroot().iterfind('country'):\n",
    "    for subelement in child.findall('.//city'):\n",
    "        city_size.update({subelement.find('name').text:{'population':0,'year':0}})\n",
    "        for subelement2 in subelement.findall('population'):\n",
    "            # Different cities have different census / estimate dates\n",
    "            # In all cases most recent estimates are last, so replace entries until final estimate is reached\n",
    "            # In third excercise started using commands to go directly to last population size element\n",
    "            city_size[subelement.find('name').text]['year']= subelement2.attrib[\"year\"]\n",
    "            city_size[subelement.find('name').text]['population'] = int(subelement2.text)       "
   ]
  },
  {
   "cell_type": "code",
   "execution_count": 11,
   "metadata": {
    "collapsed": false
   },
   "outputs": [
    {
     "data": {
      "text/html": [
       "<div>\n",
       "<table border=\"1\" class=\"dataframe\">\n",
       "  <thead>\n",
       "    <tr style=\"text-align: right;\">\n",
       "      <th></th>\n",
       "      <th>year</th>\n",
       "      <th>population</th>\n",
       "    </tr>\n",
       "  </thead>\n",
       "  <tbody>\n",
       "    <tr>\n",
       "      <th>Shanghai</th>\n",
       "      <td>2010</td>\n",
       "      <td>22315474</td>\n",
       "    </tr>\n",
       "    <tr>\n",
       "      <th>Istanbul</th>\n",
       "      <td>2012</td>\n",
       "      <td>13710512</td>\n",
       "    </tr>\n",
       "    <tr>\n",
       "      <th>Mumbai</th>\n",
       "      <td>2011</td>\n",
       "      <td>12442373</td>\n",
       "    </tr>\n",
       "    <tr>\n",
       "      <th>Moskva</th>\n",
       "      <td>2013</td>\n",
       "      <td>11979529</td>\n",
       "    </tr>\n",
       "    <tr>\n",
       "      <th>Beijing</th>\n",
       "      <td>2010</td>\n",
       "      <td>11716620</td>\n",
       "    </tr>\n",
       "    <tr>\n",
       "      <th>São Paulo</th>\n",
       "      <td>2010</td>\n",
       "      <td>11152344</td>\n",
       "    </tr>\n",
       "    <tr>\n",
       "      <th>Tianjin</th>\n",
       "      <td>2010</td>\n",
       "      <td>11090314</td>\n",
       "    </tr>\n",
       "    <tr>\n",
       "      <th>Guangzhou</th>\n",
       "      <td>2010</td>\n",
       "      <td>11071424</td>\n",
       "    </tr>\n",
       "    <tr>\n",
       "      <th>Delhi</th>\n",
       "      <td>2011</td>\n",
       "      <td>11034555</td>\n",
       "    </tr>\n",
       "    <tr>\n",
       "      <th>Shenzhen</th>\n",
       "      <td>2010</td>\n",
       "      <td>10358381</td>\n",
       "    </tr>\n",
       "  </tbody>\n",
       "</table>\n",
       "</div>"
      ],
      "text/plain": [
       "           year  population\n",
       "Shanghai   2010    22315474\n",
       "Istanbul   2012    13710512\n",
       "Mumbai     2011    12442373\n",
       "Moskva     2013    11979529\n",
       "Beijing    2010    11716620\n",
       "São Paulo  2010    11152344\n",
       "Tianjin    2010    11090314\n",
       "Guangzhou  2010    11071424\n",
       "Delhi      2011    11034555\n",
       "Shenzhen   2010    10358381"
      ]
     },
     "execution_count": 11,
     "metadata": {},
     "output_type": "execute_result"
    }
   ],
   "source": [
    "# Convert dict to DataFrame, sort by population and output top 10 cities by population\n",
    "city_size_f = pd.DataFrame.from_dict(city_size, orient='index').sort_values(by=[\"population\"], ascending=False).head(10)\n",
    "city_size_f"
   ]
  },
  {
   "cell_type": "code",
   "execution_count": 12,
   "metadata": {
    "collapsed": false
   },
   "outputs": [],
   "source": [
    "# Build dictionary containing country name, population estimate and ethnic groups\n",
    "c_ethnic={}\n",
    "for child in document.getroot().iterfind('country'):\n",
    "    c_name = child.find('name').text\n",
    "    popul = float(child.findall(\"population[last()]\")[0].text)\n",
    "    c_ethnic.update({c_name:{\"Total_Population\":popul}})\n",
    "    for subelement in child.findall(\".ethnicgroup\"):\n",
    "        ethnic_name = subelement.text\n",
    "        ethnic_popul = float(subelement.attrib[\"percentage\"])*popul/100.0\n",
    "        c_ethnic[child.find('name').text].update({ethnic_name:ethnic_popul})"
   ]
  },
  {
   "cell_type": "code",
   "execution_count": 13,
   "metadata": {
    "collapsed": false
   },
   "outputs": [
    {
     "data": {
      "text/plain": [
       "Han Chinese    1.245059e+09\n",
       "Indo-Aryan     8.718156e+08\n",
       "European       4.948722e+08\n",
       "African        3.183251e+08\n",
       "Dravidian      3.027137e+08\n",
       "Mestizo        1.577344e+08\n",
       "Bengali        1.467769e+08\n",
       "Russian        1.318570e+08\n",
       "Japanese       1.265342e+08\n",
       "Malay          1.219936e+08\n",
       "Name: Total, dtype: float64"
      ]
     },
     "execution_count": 13,
     "metadata": {},
     "output_type": "execute_result"
    }
   ],
   "source": [
    "# Convert dict to DataFrame, calculate sums of populations by ethnicity, extract row of sums, sort, show top 10\n",
    "c_ethnic_f = pd.DataFrame.from_dict(c_ethnic, orient='index').fillna(0)\n",
    "c_ethnic_f.loc['Total']= c_ethnic_f.sum()\n",
    "top_c_ethnic = c_ethnic_f.drop('Total_Population',1).loc['Total'].sort_values(ascending=False)\n",
    "top_c_ethnic[0:10]"
   ]
  },
  {
   "cell_type": "code",
   "execution_count": 14,
   "metadata": {
    "collapsed": false
   },
   "outputs": [
    {
     "name": "stdout",
     "output_type": "stream",
     "text": [
      "Longest river: Amazonas\n",
      "Length: 6448.0\n",
      "Country of source: Peru\n"
     ]
    }
   ],
   "source": [
    "# Search data set for longest river\n",
    "# This search bases country of source\n",
    "river_size=0.0\n",
    "river_name=[]\n",
    "river_country=[]\n",
    "for child in document.getroot().iterfind('river[length]'):\n",
    "    if float(child.find('.length').text) > river_size:\n",
    "        river_size = float(child.find('.length').text)\n",
    "        river_name = child.find('.name').text\n",
    "        river_country= country_code[child.find('./source').attrib[\"country\"]]\n",
    "print \"Longest river: \" + river_name\n",
    "print \"Length: \" + str(river_size)\n",
    "print \"Country of source: \" + river_country"
   ]
  },
  {
   "cell_type": "code",
   "execution_count": 15,
   "metadata": {
    "collapsed": false
   },
   "outputs": [
    {
     "name": "stdout",
     "output_type": "stream",
     "text": [
      "Largest laker: Caspian Sea\n",
      "Size: 386400.0\n",
      "Countries passed: ['Russia', 'Azerbaijan', 'Kazakhstan', 'Iran', 'Turkmenistan']\n"
     ]
    }
   ],
   "source": [
    "# Search data set for largest lake\n",
    "# This search bases country on list of all countries passed by river\n",
    "lake_size=0.0\n",
    "lake_name=[]\n",
    "lake_country=[]\n",
    "for child in document.getroot().iterfind('lake[area]'):\n",
    "    if float(child.find('.area').text) > lake_size:\n",
    "        lake_size = float(child.find('.area').text)\n",
    "        lake_name = child.find('.name').text\n",
    "        lake_country = list(map(lambda x: country_code[x], child.attrib[\"country\"].split()))\n",
    "print \"Largest laker: \" + lake_name\n",
    "print \"Size: \" + str(lake_size)\n",
    "print \"Countries passed: \" + str(lake_country)"
   ]
  },
  {
   "cell_type": "code",
   "execution_count": 16,
   "metadata": {
    "collapsed": false
   },
   "outputs": [
    {
     "name": "stdout",
     "output_type": "stream",
     "text": [
      "Hightest elevation airport: El Alto Intl\n",
      "Elevation: 4063.0\n",
      "Country: ['Bolivia']\n"
     ]
    }
   ],
   "source": [
    "# Search data set for highest elevalation airport\n",
    "airport_height=0.0\n",
    "airport_name=[]\n",
    "airport_country=[]\n",
    "for child in document.getroot().iterfind('airport[elevation]'):\n",
    "    if (child.find('.elevation').text is not None) and (float(child.find('.elevation').text) > airport_height):\n",
    "        airport_height = float(child.find('.elevation').text)\n",
    "        airport_name = child.find('.name').text\n",
    "        airport_country = list(map(lambda x: country_code[x], child.attrib[\"country\"].split()))\n",
    "        \n",
    "print \"Hightest elevation airport: \" + airport_name\n",
    "print \"Elevation: \" + str(airport_height)\n",
    "print \"Country: \" + str(airport_country)"
   ]
  },
  {
   "cell_type": "code",
   "execution_count": 47,
   "metadata": {
    "collapsed": false
   },
   "outputs": [],
   "source": [
    "# Created repeatable code to perfom searches based on solution for airport\n",
    "def search_xml(s_item, s_feat):\n",
    "    airport_height=0.0\n",
    "    airport_name=[]\n",
    "    airport_country=[]\n",
    "    for child in document.getroot().iterfind((s_item)+'['+s_feat+']'):\n",
    "        if (child.find('.'+s_feat).text is not None) and (float(child.find('.'+s_feat).text) > airport_height):\n",
    "            airport_height = float(child.find('.'+s_feat).text)\n",
    "            airport_name = child.find('.name').text\n",
    "            airport_country = list(map(lambda x: country_code[x], child.attrib[\"country\"].split()))        \n",
    "    print \"Seach item: \" + (s_item).upper()\n",
    "    print \"Seach criteria: \" + (s_feat).upper()\n",
    "    print \"Item found: \" + airport_name\n",
    "    print \"Criteria: \" + str(airport_height)\n",
    "    print \"Country: \" + str(airport_country) "
   ]
  },
  {
   "cell_type": "code",
   "execution_count": 48,
   "metadata": {
    "collapsed": false
   },
   "outputs": [
    {
     "name": "stdout",
     "output_type": "stream",
     "text": [
      "Seach item: AIRPORT\n",
      "Seach criteria: ELEVATION\n",
      "Item found: El Alto Intl\n",
      "Criteria: 4063.0\n",
      "Country: ['Bolivia']\n"
     ]
    }
   ],
   "source": [
    "search_xml(\"airport\",\"elevation\")"
   ]
  },
  {
   "cell_type": "code",
   "execution_count": 50,
   "metadata": {
    "collapsed": false
   },
   "outputs": [
    {
     "name": "stdout",
     "output_type": "stream",
     "text": [
      "Seach item: LAKE\n",
      "Seach criteria: AREA\n",
      "Item found: Caspian Sea\n",
      "Criteria: 386400.0\n",
      "Country: ['Russia', 'Azerbaijan', 'Kazakhstan', 'Iran', 'Turkmenistan']\n"
     ]
    }
   ],
   "source": [
    "search_xml(\"lake\",\"area\")"
   ]
  },
  {
   "cell_type": "code",
   "execution_count": 52,
   "metadata": {
    "collapsed": false
   },
   "outputs": [
    {
     "name": "stdout",
     "output_type": "stream",
     "text": [
      "Seach item: RIVER\n",
      "Seach criteria: LENGTH\n",
      "Item found: Amazonas\n",
      "Criteria: 6448.0\n",
      "Country: ['Colombia', 'Brazil', 'Peru']\n"
     ]
    }
   ],
   "source": [
    "search_xml(\"river\",\"length\")"
   ]
  }
 ],
 "metadata": {
  "kernelspec": {
   "display_name": "Python 2",
   "language": "python",
   "name": "python2"
  },
  "language_info": {
   "codemirror_mode": {
    "name": "ipython",
    "version": 2
   },
   "file_extension": ".py",
   "mimetype": "text/x-python",
   "name": "python",
   "nbconvert_exporter": "python",
   "pygments_lexer": "ipython2",
   "version": "2.7.13"
  }
 },
 "nbformat": 4,
 "nbformat_minor": 0
}
